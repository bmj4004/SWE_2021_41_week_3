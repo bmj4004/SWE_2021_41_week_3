{
  "nbformat": 4,
  "nbformat_minor": 0,
  "metadata": {
    "colab": {
      "provenance": [],
      "gpuType": "T4"
    },
    "kernelspec": {
      "name": "python3",
      "display_name": "Python 3"
    },
    "language_info": {
      "name": "python"
    },
    "accelerator": "GPU"
  },
  "cells": [
    {
      "cell_type": "markdown",
      "source": [
        "## Task\n",
        "- Complete **isHappy** function following the description below\n",
        "\n",
        "### Happy Number\n",
        "Write an algorithm to determine if a number **n** is happy.\n",
        "\n",
        "A **happy number** is a number defined by the following process:\n",
        "\n",
        "* Starting with any positive integer, replace the number by the sum of the squares of its digits.\n",
        "* Repeat the process until the number equals 1 (where it will stay), or it **loops endlessly in a cycle** which does not include 1.\n",
        "* Those numbers for which this process **ends in 1** are happy.\n",
        "\n",
        "Return **true** if n is a happy number, and **false** if not.\n",
        "\n",
        "Constraints:\n",
        "1 <= n <= $2^{31}$ - 1"
      ],
      "metadata": {
        "id": "TV3Socqg8BVl"
      }
    },
    {
      "cell_type": "code",
      "execution_count": 29,
      "metadata": {
        "id": "5FcxitVf5kdQ"
      },
      "outputs": [],
      "source": [
        "def isHappy(n):\n",
        "  assert type(n) == int, \"[ERROR] Parameter of isHappy() only accept integer.\"\n",
        "  assert n >= 1 and n <= 2**31 - 1, \"[ERROR] 'n' must be in range 1 ~ 2^31-1.\"\n",
        "  print('Input: ', n)\n",
        "\n",
        "  string = str(n)\n",
        "  loop_cnt = 1\n",
        "  while True:\n",
        "    acc = 0\n",
        "    print('[LOOP {:d}]'.format(loop_cnt), end= '')\n",
        "    for i in range(len(string)):\n",
        "      acc += int(string[i]) ** 2\n",
        "\n",
        "      if i == len(string) - 1:\n",
        "        print(' {:d}^2 '.format(int(string[i])), end= '=')\n",
        "      else:\n",
        "        print(' {:d}^2 '.format(int(string[i])), end= '+')\n",
        "\n",
        "    print(' ', acc)\n",
        "\n",
        "    string = str(acc)\n",
        "\n",
        "    if len(string) == 1:\n",
        "      if acc == 1:\n",
        "        break\n",
        "      else:\n",
        "        return False\n",
        "    else:\n",
        "      string = str(acc)\n",
        "      loop_cnt += 1\n",
        "\n",
        "  return True"
      ]
    },
    {
      "cell_type": "code",
      "source": [
        "print(\"Output: \", isHappy(19), end='\\n\\n')\n",
        "print(\"Output: \", isHappy(2))"
      ],
      "metadata": {
        "colab": {
          "base_uri": "https://localhost:8080/"
        },
        "id": "lof2tjCyclV0",
        "outputId": "91a04a5f-1da1-455b-8914-c2bd7dd478ff"
      },
      "execution_count": 32,
      "outputs": [
        {
          "output_type": "stream",
          "name": "stdout",
          "text": [
            "Input:  19\n",
            "[LOOP 1] 1^2 + 9^2 =  82\n",
            "[LOOP 2] 8^2 + 2^2 =  68\n",
            "[LOOP 3] 6^2 + 8^2 =  100\n",
            "[LOOP 4] 1^2 + 0^2 + 0^2 =  1\n",
            "Output:  True\n",
            "\n",
            "Input:  2\n",
            "[LOOP 1] 2^2 =  4\n",
            "Output:  False\n"
          ]
        }
      ]
    },
    {
      "cell_type": "markdown",
      "source": [
        "**Testcase 1.**\n",
        "\n",
        "**Input**: 19\n",
        "\n",
        "**Output**: True\n",
        "\n",
        "**Explanation**:\n",
        "\n",
        "$1^2 + 9^2 = 82$\n",
        "\n",
        "$8^2 + 2^2 = 68$\n",
        "\n",
        "$6^2 + 8^2 = 100$\n",
        "\n",
        "$1^2 + 0^2 + 0^2 = 1$"
      ],
      "metadata": {
        "id": "eRrh24Ognrqf"
      }
    },
    {
      "cell_type": "markdown",
      "source": [
        "**Testcase 2.**\n",
        "\n",
        "**Input**: 2\n",
        "\n",
        "**Output**: False"
      ],
      "metadata": {
        "id": "dE7YMY8qoPoj"
      }
    }
  ]
}